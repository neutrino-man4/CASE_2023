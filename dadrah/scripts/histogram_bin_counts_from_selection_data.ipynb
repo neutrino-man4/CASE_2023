{
 "cells": [
  {
   "cell_type": "code",
   "execution_count": 1,
   "metadata": {},
   "outputs": [
    {
     "name": "stdout",
     "output_type": "stream",
     "text": [
      "Welcome to JupyROOT 6.18/04\n"
     ]
    }
   ],
   "source": [
    "import pofah.jet_sample as js\n",
    "import pofah.util.sample_factory as sf\n",
    "import pofah.util.result_writer as reswr\n",
    "import pofah.util.experiment as ex\n",
    "import selection.discriminator as dis\n",
    "import selection.loss_strategy as ls\n",
    "import analysis.analysis_discriminator as an\n",
    "import anpofah.util.plotting_util as pu\n",
    "import pofah.path_constants.sample_dict_file_parts_reco as sd \n",
    "import datetime\n",
    "import dadrah.analysis.root_plotting_util as rpu\n",
    "import dadrah.selection.selection_util as seu\n",
    "from importlib import reload\n",
    "import os"
   ]
  },
  {
   "cell_type": "code",
   "execution_count": 2,
   "metadata": {},
   "outputs": [],
   "source": [
    "path_dict = {\n",
    "    'base_dir' : '/eos/project/d/dshep/TOPCLASS/DijetAnomaly/VAE_results/run_101/sample_results',\n",
    "    'sample_dir' : {\n",
    "        'qcdSigAllReco' : 'qcd_sqrtshatTeV_13TeV_PU40_ALL_parts',\n",
    "        'GtoWW15naReco' : 'RSGraviton_WW_NARROW_13TeV_PU40_1.5TeV_parts',\n",
    "        'GtoWW25naReco' : 'RSGraviton_WW_NARROW_13TeV_PU40_2.5TeV_parts',\n",
    "        'GtoWW35naReco' : 'RSGraviton_WW_NARROW_13TeV_PU40_3.5TeV_parts'\n",
    "    },\n",
    "    'file_names' : {}\n",
    "}\n",
    "sample_ids = ['qcdSigAllReco','GtoWW15naReco','GtoWW25naReco','GtoWW35naReco']"
   ]
  },
  {
   "cell_type": "code",
   "execution_count": 3,
   "metadata": {},
   "outputs": [
    {
     "name": "stdout",
     "output_type": "stream",
     "text": [
      "reading /eos/project/d/dshep/TOPCLASS/DijetAnomaly/VAE_results/run_101/sample_results/qcd_sqrtshatTeV_13TeV_PU40_ALL_parts\n",
      "reading  /eos/project/d/dshep/TOPCLASS/DijetAnomaly/VAE_results/run_101/sample_results/qcd_sqrtshatTeV_13TeV_PU40_ALL_parts\n",
      "num files in dir: 1\n",
      "3725780 events passed mass cut at 1100.0\n",
      "\n",
      "num files read in dir  /eos/project/d/dshep/TOPCLASS/DijetAnomaly/VAE_results/run_101/sample_results/qcd_sqrtshatTeV_13TeV_PU40_ALL_parts :  1\n",
      "\n",
      "num events read in dir  3725780\n",
      "reading /eos/project/d/dshep/TOPCLASS/DijetAnomaly/VAE_results/run_101/sample_results/RSGraviton_WW_NARROW_13TeV_PU40_1.5TeV_parts\n",
      "reading  /eos/project/d/dshep/TOPCLASS/DijetAnomaly/VAE_results/run_101/sample_results/RSGraviton_WW_NARROW_13TeV_PU40_1.5TeV_parts\n",
      "num files in dir: 1\n",
      "448032 events passed mass cut at 1100.0\n",
      "\n",
      "num files read in dir  /eos/project/d/dshep/TOPCLASS/DijetAnomaly/VAE_results/run_101/sample_results/RSGraviton_WW_NARROW_13TeV_PU40_1.5TeV_parts :  1\n",
      "\n",
      "num events read in dir  448032\n",
      "reading /eos/project/d/dshep/TOPCLASS/DijetAnomaly/VAE_results/run_101/sample_results/RSGraviton_WW_NARROW_13TeV_PU40_2.5TeV_parts\n",
      "reading  /eos/project/d/dshep/TOPCLASS/DijetAnomaly/VAE_results/run_101/sample_results/RSGraviton_WW_NARROW_13TeV_PU40_2.5TeV_parts\n",
      "num files in dir: 1\n",
      "512505 events passed mass cut at 1100.0\n",
      "\n",
      "num files read in dir  /eos/project/d/dshep/TOPCLASS/DijetAnomaly/VAE_results/run_101/sample_results/RSGraviton_WW_NARROW_13TeV_PU40_2.5TeV_parts :  1\n",
      "\n",
      "num events read in dir  512505\n",
      "reading /eos/project/d/dshep/TOPCLASS/DijetAnomaly/VAE_results/run_101/sample_results/RSGraviton_WW_NARROW_13TeV_PU40_3.5TeV_parts\n",
      "reading  /eos/project/d/dshep/TOPCLASS/DijetAnomaly/VAE_results/run_101/sample_results/RSGraviton_WW_NARROW_13TeV_PU40_3.5TeV_parts\n",
      "num files in dir: 1\n",
      "515489 events passed mass cut at 1100.0\n",
      "\n",
      "num files read in dir  /eos/project/d/dshep/TOPCLASS/DijetAnomaly/VAE_results/run_101/sample_results/RSGraviton_WW_NARROW_13TeV_PU40_3.5TeV_parts :  1\n",
      "\n",
      "num events read in dir  515489\n"
     ]
    }
   ],
   "source": [
    "paths = sf.SamplePathDirFactory(path_dict)\n",
    "data = sf.read_inputs_to_jet_sample_dict_from_dir(sample_ids, paths)"
   ]
  },
  {
   "cell_type": "code",
   "execution_count": 4,
   "metadata": {},
   "outputs": [],
   "source": [
    "counting_experiment = {}\n",
    "bin_edges = [0,1126,1181,1246,1313,1383,1455,1530,1607,1687,1770,1856,1945,2037,2132,2231,2332,2438,2546,2659,2775,2895,3019,3147,3279,3416,3558,3704,3854,4010,4171,4337,4509,4686,4869,5058,5253,5500,5663,5877,6099,6328,6564,6808,1e6]"
   ]
  },
  {
   "cell_type": "code",
   "execution_count": 5,
   "metadata": {},
   "outputs": [],
   "source": [
    "for sample_id in sample_ids:\n",
    "    counting_experiment[sample_id] = seu.get_bin_counts_sig_like_bg_like(data[sample_id], bin_edges)"
   ]
  },
  {
   "cell_type": "code",
   "execution_count": 6,
   "metadata": {},
   "outputs": [],
   "source": [
    "bin_count_dir = '/eos/project/d/dshep/TOPCLASS/DijetAnomaly/VAE_results/run_101/bin_count/'\n",
    "bin_count_file_path = os.path.join(bin_count_dir,'sel_bin_count_run_101_tsz30pc_q5.0.h5')\n",
    "reswr.write_bin_counts_to_file(counting_experiment, bin_edges, bin_count_file_path)"
   ]
  },
  {
   "cell_type": "code",
   "execution_count": 7,
   "metadata": {},
   "outputs": [
    {
     "data": {
      "text/plain": [
       "<KeysViewHDF5 ['GtoWW15naReco', 'GtoWW25naReco', 'GtoWW35naReco', 'bin_count_labels', 'bin_edges', 'qcdSigAllReco']>"
      ]
     },
     "execution_count": 7,
     "metadata": {},
     "output_type": "execute_result"
    }
   ],
   "source": [
    "import h5py\n",
    "f = h5py.File(bin_count_file_path,'r')\n",
    "f.keys()"
   ]
  },
  {
   "cell_type": "code",
   "execution_count": 18,
   "metadata": {},
   "outputs": [
    {
     "data": {
      "text/plain": [
       "3"
      ]
     },
     "execution_count": 18,
     "metadata": {},
     "output_type": "execute_result"
    }
   ],
   "source": [
    "import numpy as np\n",
    "dat = np.asarray(f.get('GtoWW35naReco'))\n",
    "len(dat)"
   ]
  },
  {
   "cell_type": "code",
   "execution_count": 19,
   "metadata": {},
   "outputs": [],
   "source": [
    "sig_tot, sig_acc, sig_rej = dat[0], dat[1], dat[2]"
   ]
  },
  {
   "cell_type": "code",
   "execution_count": 20,
   "metadata": {},
   "outputs": [
    {
     "data": {
      "text/plain": [
       "515489"
      ]
     },
     "execution_count": 20,
     "metadata": {},
     "output_type": "execute_result"
    }
   ],
   "source": [
    "sum(sig_tot)"
   ]
  },
  {
   "cell_type": "code",
   "execution_count": 21,
   "metadata": {},
   "outputs": [
    {
     "data": {
      "text/plain": [
       "70527"
      ]
     },
     "execution_count": 21,
     "metadata": {},
     "output_type": "execute_result"
    }
   ],
   "source": [
    "sum(sig_acc)"
   ]
  },
  {
   "cell_type": "code",
   "execution_count": 22,
   "metadata": {},
   "outputs": [
    {
     "data": {
      "text/plain": [
       "444962"
      ]
     },
     "execution_count": 22,
     "metadata": {},
     "output_type": "execute_result"
    }
   ],
   "source": [
    "sum(sig_rej)"
   ]
  },
  {
   "cell_type": "code",
   "execution_count": 23,
   "metadata": {},
   "outputs": [
    {
     "name": "stdout",
     "output_type": "stream",
     "text": [
      "/eos/project/d/dshep/TOPCLASS/DijetAnomaly/VAE_results/run_101/bin_count/sel_bin_count_run_101_tsz30pc_q5.0.h5\n"
     ]
    }
   ],
   "source": [
    "print(bin_count_file_path)"
   ]
  },
  {
   "cell_type": "code",
   "execution_count": null,
   "metadata": {},
   "outputs": [],
   "source": []
  }
 ],
 "metadata": {
  "kernelspec": {
   "display_name": "Python 3",
   "language": "python",
   "name": "python3"
  },
  "language_info": {
   "codemirror_mode": {
    "name": "ipython",
    "version": 3
   },
   "file_extension": ".py",
   "mimetype": "text/x-python",
   "name": "python",
   "nbconvert_exporter": "python",
   "pygments_lexer": "ipython3",
   "version": "3.6.5"
  }
 },
 "nbformat": 4,
 "nbformat_minor": 2
}
